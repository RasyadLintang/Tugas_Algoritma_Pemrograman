{
  "nbformat": 4,
  "nbformat_minor": 0,
  "metadata": {
    "colab": {
      "provenance": [],
      "authorship_tag": "ABX9TyM84kAxZKXZhk8tf2lCHSVx"
    },
    "kernelspec": {
      "name": "python3",
      "display_name": "Python 3"
    },
    "language_info": {
      "name": "python"
    }
  },
  "cells": [
    {
      "cell_type": "markdown",
      "source": [
        "**Weekly Exercise 1**"
      ],
      "metadata": {
        "id": "kvDyumpU2KoR"
      }
    },
    {
      "cell_type": "code",
      "source": [
        "Umur = int(input(\"Umur :\"))\n",
        "if Umur >= 17:\n",
        "  print(\"Boleh membuat SIM\")\n",
        "else:\n",
        "  print(\"Tidak boleh membuat SIM\")"
      ],
      "metadata": {
        "colab": {
          "base_uri": "https://localhost:8080/"
        },
        "id": "MirY2l_K2QrO",
        "outputId": "0b730905-3c77-4f4a-f291-365aa85aca90"
      },
      "execution_count": null,
      "outputs": [
        {
          "output_type": "stream",
          "name": "stdout",
          "text": [
            "Umur :18\n",
            "Boleh membuat SIM\n"
          ]
        }
      ]
    },
    {
      "cell_type": "markdown",
      "source": [
        "**Weekly Exercise 2**"
      ],
      "metadata": {
        "id": "_M9MpweP16eZ"
      }
    },
    {
      "cell_type": "code",
      "source": [
        "Nilai = int(input(\"Nilai :\"))\n",
        "if Nilai >= 90:\n",
        "  print(\"A\")\n",
        "elif Nilai >= 80:\n",
        "  print(\"B\")\n",
        "elif Nilai >= 70:\n",
        "  print(\"C\")\n",
        "elif Nilai >= 60:\n",
        "  print(\"D\")\n",
        "else:\n",
        "  print(\"E\")"
      ],
      "metadata": {
        "colab": {
          "base_uri": "https://localhost:8080/"
        },
        "id": "hA7UL3XayABY",
        "outputId": "daf2b26a-2bf7-4fd6-e891-e25eb3c91725"
      },
      "execution_count": null,
      "outputs": [
        {
          "output_type": "stream",
          "name": "stdout",
          "text": [
            "Nilai :99\n",
            "A\n"
          ]
        }
      ]
    },
    {
      "cell_type": "markdown",
      "source": [
        "**Weekly Exercise 3**"
      ],
      "metadata": {
        "id": "xh4y-eso24av"
      }
    },
    {
      "cell_type": "code",
      "source": [
        "Nilai = float(input(\"Nilai :\"))\n",
        "if 80.00<=Nilai<=100:\n",
        "  print(\"A\")\n",
        "elif 77.50<=Nilai<=79.99:\n",
        "  print(\"A-\")\n",
        "elif 75.00<=Nilai<=77.49:\n",
        "  print(\"A/B\")\n",
        "elif 72.50<=Nilai<=74.99:\n",
        "  print(\"B+\")\n",
        "elif 70.00<=Nilai<=72.49:\n",
        "  print(\"B\")\n",
        "elif 67.50<=Nilai<=69.99:\n",
        "  print(\"B-\")\n",
        "elif 65.00<=Nilai<=67.49:\n",
        "  print(\"B/C\")\n",
        "elif 62.50<=Nilai<=64.99:\n",
        "  print(\"C+\")\n",
        "elif 60.00<=Nilai<=62.49:\n",
        "  print(\"C\")\n",
        "elif 55.00<=Nilai<=59.99:\n",
        "  print(\"C-\")\n",
        "elif 50.00<=Nilai<=54.99:\n",
        "  print(\"C/D\")\n",
        "elif 45.00<=Nilai<=49.99:\n",
        "  print(\"D+\")\n",
        "elif 40.00<=Nilai<=44.99:\n",
        "  print(\"D\")\n",
        "elif Nilai<40.00:\n",
        "  print(\"E\")\n",
        "else:\n",
        "  print(\"Nilai Tidak Valid\")"
      ],
      "metadata": {
        "colab": {
          "base_uri": "https://localhost:8080/"
        },
        "id": "FOna3x5gzL_1",
        "outputId": "4d22e1a5-0a6d-4bff-bd44-9fd97cdf8b70"
      },
      "execution_count": null,
      "outputs": [
        {
          "output_type": "stream",
          "name": "stdout",
          "text": [
            "Nilai :101\n",
            "Nilai Tidak Valid\n"
          ]
        }
      ]
    }
  ]
}