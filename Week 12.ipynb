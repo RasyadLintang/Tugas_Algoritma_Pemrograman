{
  "nbformat": 4,
  "nbformat_minor": 0,
  "metadata": {
    "colab": {
      "provenance": [],
      "authorship_tag": "ABX9TyOtxryzPKF1vg03+O4g6WWf",
      "include_colab_link": true
    },
    "kernelspec": {
      "name": "python3",
      "display_name": "Python 3"
    },
    "language_info": {
      "name": "python"
    }
  },
  "cells": [
    {
      "cell_type": "markdown",
      "metadata": {
        "id": "view-in-github",
        "colab_type": "text"
      },
      "source": [
        "<a href=\"https://colab.research.google.com/github/RasyadLintang/Tugas_Algoritma_Pemrograman/blob/main/Week%2012.ipynb\" target=\"_parent\"><img src=\"https://colab.research.google.com/assets/colab-badge.svg\" alt=\"Open In Colab\"/></a>"
      ]
    },
    {
      "cell_type": "markdown",
      "source": [
        "**Weekly Exercise 1**"
      ],
      "metadata": {
        "id": "C0ip9ayAWMR_"
      }
    },
    {
      "cell_type": "code",
      "source": [
        "def Llingkaran():\n",
        "    phi = 3.14\n",
        "    while True:\n",
        "        try:\n",
        "            jari_jari = input(\"Masukkan jari-jari lingkaran: \")\n",
        "            if not jari_jari:\n",
        "                raise ValueError(\"Input tidak boleh kosong\")\n",
        "            if not jari_jari.isdigit():\n",
        "                raise ValueError(\"Input harus berupa angka\")\n",
        "            jari_jari = float(jari_jari)\n",
        "            luas = phi * (jari_jari**2)\n",
        "            return luas\n",
        "        except ValueError as e:\n",
        "          print(e)\n",
        "\n",
        "def Lpersegi():\n",
        "    while True:\n",
        "        try:\n",
        "            sisi = input(\"Masukkan panjang sisi persegi: \")\n",
        "            if not sisi:\n",
        "                raise ValueError(\"Input tidak boleh kosong\")\n",
        "            if not sisi.isdigit():\n",
        "                raise ValueError(\"Input harus berupa angka\")\n",
        "            sisi = float(sisi)\n",
        "            luas = sisi * sisi\n",
        "            return luas\n",
        "        except ValueError as e:\n",
        "          print(e)\n",
        "\n",
        "def Lsegitiga():\n",
        "    while True:\n",
        "        try:\n",
        "            alas = input(\"Masukkan panjang alas segitiga: \")\n",
        "            if not alas:\n",
        "                raise ValueError(\"Input tidak boleh kosong\")\n",
        "            if not alas.isdigit():\n",
        "                raise ValueError(\"Input harus berupa angka\")\n",
        "            alas = float(alas)\n",
        "            tinggi = input(\"Masukkan tinggi segitiga: \")\n",
        "            if not tinggi:\n",
        "                raise ValueError(\"Input tidak boleh kosong\")\n",
        "            if not tinggi.isdigit():\n",
        "                raise ValueError(\"Input harus berupa angka\")\n",
        "            tinggi = float(tinggi)\n",
        "            luas = 0.5 * alas * tinggi\n",
        "            return luas\n",
        "        except ValueError as e:\n",
        "          print(e)\n",
        "\n",
        "def Topgoldlaner():\n",
        "    print(\"Pilih bangun datar untuk menghitung luas:\")\n",
        "    print(\"1. Lingkaran\")\n",
        "    print(\"2. Persegi\")\n",
        "    print(\"3. Segitiga\")\n",
        "    print(\"4. Keluar\")\n",
        "\n",
        "while True:\n",
        "    Topgoldlaner()\n",
        "    pilihan = input(\"Masukkan pilihan (1/2/3/4): \")\n",
        "\n",
        "    if pilihan == '1':\n",
        "        print(f\"Luas Lingkaran: {Llingkaran()}\")\n",
        "    elif pilihan == '2':\n",
        "        print(f\"Luas Persegi: {Lpersegi()}\")\n",
        "    elif pilihan == '3':\n",
        "        print(f\"Luas Segitiga: {Lsegitiga()}\")\n",
        "    elif pilihan == '4':\n",
        "        print(\"Terima kasih\")\n",
        "        break\n",
        "    else:\n",
        "        print(\"Pilihan tidak valid. Silakan coba lagi.\")"
      ],
      "metadata": {
        "colab": {
          "base_uri": "https://localhost:8080/"
        },
        "id": "f1RHSgbWPvFn",
        "outputId": "711dc0ff-517b-4af3-d68d-e33f00a5edcc"
      },
      "execution_count": null,
      "outputs": [
        {
          "output_type": "stream",
          "name": "stdout",
          "text": [
            "Pilih bangun datar untuk menghitung luas:\n",
            "1. Lingkaran\n",
            "2. Persegi\n",
            "3. Segitiga\n",
            "4. Keluar\n",
            "Masukkan pilihan (1/2/3/4): iwan\n",
            "Pilihan tidak valid. Silakan coba lagi.\n",
            "Pilih bangun datar untuk menghitung luas:\n",
            "1. Lingkaran\n",
            "2. Persegi\n",
            "3. Segitiga\n",
            "4. Keluar\n",
            "Masukkan pilihan (1/2/3/4): 1\n",
            "Masukkan jari-jari lingkaran: claude\n",
            "Input harus berupa angka\n",
            "Masukkan jari-jari lingkaran: \n",
            "Input tidak boleh kosong\n",
            "Masukkan jari-jari lingkaran: 5\n",
            "Luas Lingkaran: 78.5\n",
            "Pilih bangun datar untuk menghitung luas:\n",
            "1. Lingkaran\n",
            "2. Persegi\n",
            "3. Segitiga\n",
            "4. Keluar\n",
            "Masukkan pilihan (1/2/3/4): 4\n",
            "Terima kasih\n"
          ]
        }
      ]
    },
    {
      "cell_type": "code",
      "source": [
        "try:\n",
        "  NPM = int(input(\"Masukkan NPM Anda: \"))\n",
        "  NPM = [int(i) for i in str(NPM)]\n",
        "  jumlah_genap = 0\n",
        "  jumlah_ganjil = 0\n",
        "\n",
        "  for i in NPM:\n",
        "      if i % 2 == 0:\n",
        "          jumlah_genap += 1\n",
        "\n",
        "      else:\n",
        "          jumlah_ganjil += 1\n",
        "  print(\"Jumlah Bilangan Genap: \", jumlah_genap)\n",
        "  print(\"Jumlah Bilangan Ganjil: \", jumlah_ganjil)\n",
        "except:\n",
        "  print(\"NPM harus berupa angka\")"
      ],
      "metadata": {
        "id": "U-b4fH8TViKh",
        "colab": {
          "base_uri": "https://localhost:8080/"
        },
        "outputId": "07fb7cdc-e6e0-49bf-f785-375e3740e25f"
      },
      "execution_count": null,
      "outputs": [
        {
          "output_type": "stream",
          "name": "stdout",
          "text": [
            "Masukkan NPM Anda: Ridwansah\n",
            "NPM harus berupa angka\n"
          ]
        }
      ]
    }
  ]
}