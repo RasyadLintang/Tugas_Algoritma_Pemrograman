{
  "nbformat": 4,
  "nbformat_minor": 0,
  "metadata": {
    "colab": {
      "provenance": [],
      "authorship_tag": "ABX9TyPTsGynJ0u9A+r2znFA7XaN"
    },
    "kernelspec": {
      "name": "python3",
      "display_name": "Python 3"
    },
    "language_info": {
      "name": "python"
    }
  },
  "cells": [
    {
      "cell_type": "markdown",
      "source": [
        "**Quiz on Nested-If**"
      ],
      "metadata": {
        "id": "9gS6zMyL9jh6"
      }
    },
    {
      "cell_type": "code",
      "execution_count": null,
      "metadata": {
        "colab": {
          "base_uri": "https://localhost:8080/"
        },
        "id": "U1qmJmYXy5ma",
        "outputId": "2dadb33d-ba64-4446-cf1d-f097b15d2c46"
      },
      "outputs": [
        {
          "output_type": "stream",
          "name": "stdout",
          "text": [
            "enter username:guest\n",
            "enter password:123\n",
            "User tidak ditemukan\n"
          ]
        }
      ],
      "source": [
        "username=input(\"enter username:\")\n",
        "password=input(\"enter password:\")\n",
        "\n",
        "if username == \"admin\" and password == \"password\" :\n",
        "    print(\"Login Berhasil\")\n",
        "else:\n",
        "    if username == \"admin\" and password == 12345 :\n",
        "        print(\"User perlu merubah password karena kata sandi salah\")\n",
        "    else:\n",
        "        if username == \"guest\" and password == \"guest\" :\n",
        "            print(\"Berhasil login sebagai guest\")\n",
        "        else:\n",
        "            if username == \"guest\" and password == \"\" :\n",
        "                print(\"Password salah\")\n",
        "            else:\n",
        "                print(\"User tidak ditemukan\")\n"
      ]
    },
    {
      "cell_type": "markdown",
      "source": [
        "**Correction**"
      ],
      "metadata": {
        "id": "XYFs2biPHRXQ"
      }
    },
    {
      "cell_type": "code",
      "source": [
        "username = input(\"enter username:\")\n",
        "password = input(\"enter password:\")\n",
        "\n",
        "if username == \"admin\":\n",
        "    if password == \"password\":\n",
        "        print(\"Berhasil login sebagai admin.\")\n",
        "    elif password == \"12345\":\n",
        "        print(\"User perlu merubah password karena kata sandi salah.\")\n",
        "    else:\n",
        "        print(\"Password salah, coba lagi.\")\n",
        "else:\n",
        "    if username == \"guest\":\n",
        "        if password == \"guest\":\n",
        "            print(\"Berhasil login sebagai guest.\")\n",
        "        else:\n",
        "            print(\"Password salah, coba lagi.\")\n",
        "    else:\n",
        "        print(\"User tidak ditemukan, coba lagi.\")"
      ],
      "metadata": {
        "colab": {
          "base_uri": "https://localhost:8080/"
        },
        "id": "x0k2NpZA2cQA",
        "outputId": "2f5c5b8a-767f-41f2-8ea1-4ea3899bb9a5"
      },
      "execution_count": null,
      "outputs": [
        {
          "output_type": "stream",
          "name": "stdout",
          "text": [
            "enter username:guest\n",
            "enter password:guest\n",
            "Berhasil login sebagai guest.\n"
          ]
        }
      ]
    },
    {
      "cell_type": "markdown",
      "source": [
        "**Weekly Exercise 1**"
      ],
      "metadata": {
        "id": "jpkgxH_rHLMh"
      }
    },
    {
      "cell_type": "code",
      "source": [
        "Tahun = int(input(\"Masukkan Tahun: \"))\n",
        "\n",
        "if (Tahun % 400 == 0) or (Tahun % 4 == 0 and not Tahun % 100 == 0):\n",
        "    print(Tahun, \"adalah tahun kabisat\")\n",
        "else:\n",
        "    print(Tahun, \"bukan tahun kabisat\")"
      ],
      "metadata": {
        "colab": {
          "base_uri": "https://localhost:8080/"
        },
        "id": "dbf3OuNo624U",
        "outputId": "3a2e1f2d-7efb-4050-c5af-741d1171e9b3"
      },
      "execution_count": null,
      "outputs": [
        {
          "output_type": "stream",
          "name": "stdout",
          "text": [
            "Masukkan Tahun: 1900\n",
            "1900 bukan tahun kabisat\n"
          ]
        }
      ]
    },
    {
      "cell_type": "markdown",
      "source": [
        "**Weekly Exercise 2**"
      ],
      "metadata": {
        "id": "n37H2Qr4HW1Q"
      }
    },
    {
      "cell_type": "code",
      "source": [
        "Pertama = int(input(\"Masukkan Angka Pertama: \"))\n",
        "Kedua = int(input(\"Masukkan Angka Kedua: \"))\n",
        "Ketiga = int(input(\"Masukkan Angka Ketiga: \"))\n",
        "\n",
        "if Pertama>Kedua and Pertama>Ketiga :\n",
        "    print(Pertama, \"adalah angka terbesar\")\n",
        "elif Kedua>Pertama and Kedua>Ketiga :\n",
        "    print(Kedua, \"adalah angka terbesar\")\n",
        "elif Ketiga>Pertama and Ketiga>Kedua:\n",
        "    print(Ketiga, \"adalah angka terbesar\")\n",
        "else:\n",
        "    print(\"Semua angka sama besar\")"
      ],
      "metadata": {
        "colab": {
          "base_uri": "https://localhost:8080/"
        },
        "id": "4g_MEplhIMYQ",
        "outputId": "cd3222a8-e554-4c46-e420-e66933c08a1a"
      },
      "execution_count": null,
      "outputs": [
        {
          "output_type": "stream",
          "name": "stdout",
          "text": [
            "Masukkan Angka Pertama: 7\n",
            "Masukkan Angka Kedua: 7\n",
            "Masukkan Angka Ketiga: 7\n",
            "Semua angka sama besar\n"
          ]
        }
      ]
    },
    {
      "cell_type": "markdown",
      "source": [
        "**Weekly Exercise 3**"
      ],
      "metadata": {
        "id": "KmMyiRLuy5Cf"
      }
    },
    {
      "cell_type": "code",
      "source": [
        "total_belanja = float(input(\"Masukkan total belanja : \"))\n",
        "konsumen = input(\"Jenis konsumen (member/non member):\")\n",
        "\n",
        "diskon = 0\n",
        "if total_belanja >= 100000:\n",
        "  if total_belanja >= 200000:\n",
        "    diskon = 0.04\n",
        "  else:\n",
        "    diskon = 0.03\n",
        "as\n",
        "if konsumen == \"member\":\n",
        "  diskon += 0.02\n",
        "\n",
        "jumlah_pembayaran = total_belanja * (1 - diskon)\n",
        "\n",
        "print(\"Jumlah yang harus dibayarkan : Rp\", jumlah_pembayaran)"
      ],
      "metadata": {
        "colab": {
          "base_uri": "https://localhost:8080/"
        },
        "id": "j0KhGhGnx36e",
        "outputId": "389b202c-ad65-46cd-9420-cad4a1af7bf4"
      },
      "execution_count": 21,
      "outputs": [
        {
          "output_type": "stream",
          "name": "stdout",
          "text": [
            "Masukkan total belanja : 111111\n",
            "Jenis konsumen (member/non member):member\n",
            "Jumlah yang harus dibayarkan : Rp 105555.45\n"
          ]
        }
      ]
    },
    {
      "cell_type": "markdown",
      "source": [
        "**Weekly Exercise 4**"
      ],
      "metadata": {
        "id": "mmAWrKzdzBY4"
      }
    },
    {
      "cell_type": "code",
      "source": [
        "username = input(\"Masukkan username : \")\n",
        "email = input(\"Masukkan email : \")\n",
        "password = input(\"Masukkan password : \")\n",
        "\n",
        "if username == \"\":\n",
        "  print(\"Username tidak boleh kosong\")\n",
        "elif \"@\" not in email:\n",
        "  print(\"Harus terdapat '@' pada alamat email\")\n",
        "elif len(password) < 9:\n",
        "  print(\"Panjang password harus lebih dari 8 karakter\")\n",
        "else:\n",
        "  print(\"User berhasil dibuat\")"
      ],
      "metadata": {
        "id": "H2DgCBm4L6QJ",
        "colab": {
          "base_uri": "https://localhost:8080/"
        },
        "outputId": "94b188e0-a9b2-4d84-d7ce-954eba8a8fc8"
      },
      "execution_count": 26,
      "outputs": [
        {
          "output_type": "stream",
          "name": "stdout",
          "text": [
            "Masukkan username : Topgoldlaner\n",
            "Masukkan email : rasyad.lintang.wahyunindar@students.untidar.ac.id\n",
            "Masukkan password : 123456789\n",
            "User berhasil dibuat\n"
          ]
        }
      ]
    }
  ]
}
