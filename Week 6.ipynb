{
  "nbformat": 4,
  "nbformat_minor": 0,
  "metadata": {
    "colab": {
      "provenance": [],
      "authorship_tag": "ABX9TyM689wNol6uQH5pl496Myiy",
      "include_colab_link": true
    },
    "kernelspec": {
      "name": "python3",
      "display_name": "Python 3"
    },
    "language_info": {
      "name": "python"
    }
  },
  "cells": [
    {
      "cell_type": "markdown",
      "metadata": {
        "id": "view-in-github",
        "colab_type": "text"
      },
      "source": [
        "<a href=\"https://colab.research.google.com/github/RasyadLintang/Tugas_Algoritma_Pemrograman/blob/main/Week%206.ipynb\" target=\"_parent\"><img src=\"https://colab.research.google.com/assets/colab-badge.svg\" alt=\"Open In Colab\"/></a>"
      ]
    },
    {
      "cell_type": "markdown",
      "source": [
        "**Weekly Exercise 1**"
      ],
      "metadata": {
        "id": "2xBGKSty6FBK"
      }
    },
    {
      "cell_type": "code",
      "execution_count": null,
      "metadata": {
        "id": "iZKzx1kp5CP3",
        "outputId": "c5fa050b-5d8b-49c8-f761-8f21e128c94f",
        "colab": {
          "base_uri": "https://localhost:8080/"
        }
      },
      "outputs": [
        {
          "output_type": "stream",
          "name": "stdout",
          "text": [
            "Masukkan angka: 5\n",
            "    *\n",
            "   * *\n",
            "  * * *\n",
            " * * * *\n",
            "* * * * *\n"
          ]
        }
      ],
      "source": [
        "user = int(input(\"Masukkan angka: \"))\n",
        "\n",
        "for i in range(user):\n",
        "  print(\" \" * (user-i-1), end=\"\")\n",
        "  for j in range(i+1):\n",
        "    print(\"*\", end=\"\")\n",
        "    if j != i:\n",
        "        print(\" \", end=\"\")\n",
        "  print()"
      ]
    },
    {
      "cell_type": "markdown",
      "source": [
        "**Weekly Exercise 2**"
      ],
      "metadata": {
        "id": "5AxUvKO96QvG"
      }
    },
    {
      "cell_type": "code",
      "source": [
        "user = int(input(\"Masukkan angka: \"))\n",
        "\n",
        "for i in range(user):\n",
        "  print(\" \" * (user-i-1), end=\"\")\n",
        "  phoenix = 1\n",
        "  for j in range(i+1):\n",
        "    print(phoenix, end=\"\")\n",
        "    phoenix = phoenix * (i-j) // (j+1)\n",
        "    if j != i:\n",
        "        print(\" \", end=\"\")\n",
        "  print()"
      ],
      "metadata": {
        "id": "JTN_cXZm5DsU",
        "colab": {
          "base_uri": "https://localhost:8080/"
        },
        "outputId": "a7713b15-4acb-47ae-8734-96d430b15f2e"
      },
      "execution_count": null,
      "outputs": [
        {
          "output_type": "stream",
          "name": "stdout",
          "text": [
            "Masukkan angka: 5\n",
            "    1\n",
            "   1 1\n",
            "  1 2 1\n",
            " 1 3 3 1\n",
            "1 4 6 4 1\n"
          ]
        }
      ]
    },
    {
      "cell_type": "markdown",
      "source": [
        "**Weekly Exercise 3**"
      ],
      "metadata": {
        "id": "Tn-pajGi6d4I"
      }
    },
    {
      "cell_type": "code",
      "source": [
        "user = int(input(\"Masukkan angka: \"))\n",
        "\n",
        "for i in range(user):\n",
        "  print(\" \" * (user-i-1), end=\"\")\n",
        "  phoenix = 1\n",
        "  jumlah = 0\n",
        "  for j in range(i+1):\n",
        "    print(phoenix, end=\"\")\n",
        "    jumlah += phoenix\n",
        "    phoenix = phoenix * (i-j) // (j+1)\n",
        "    if j != i:\n",
        "        print(\" \", end=\"\")\n",
        "  print(f\" jumlah: {jumlah}\")"
      ],
      "metadata": {
        "colab": {
          "base_uri": "https://localhost:8080/"
        },
        "id": "7zBiASBC6Zrd",
        "outputId": "c1a022bb-8549-4aab-a5da-d820da847982"
      },
      "execution_count": null,
      "outputs": [
        {
          "output_type": "stream",
          "name": "stdout",
          "text": [
            "Masukkan angka: 5\n",
            "    1 jumlah: 1\n",
            "   1 1 jumlah: 2\n",
            "  1 2 1 jumlah: 4\n",
            " 1 3 3 1 jumlah: 8\n",
            "1 4 6 4 1 jumlah: 16\n"
          ]
        }
      ]
    },
    {
      "cell_type": "code",
      "source": [],
      "metadata": {
        "id": "eSVHdCXK7-EC"
      },
      "execution_count": null,
      "outputs": []
    }
  ]
}