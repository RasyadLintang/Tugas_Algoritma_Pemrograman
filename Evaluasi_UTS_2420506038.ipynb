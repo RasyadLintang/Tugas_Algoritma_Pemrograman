{
  "nbformat": 4,
  "nbformat_minor": 0,
  "metadata": {
    "colab": {
      "provenance": [],
      "authorship_tag": "ABX9TyP4Ubeejtk5yaupwVK+5TrF"
    },
    "kernelspec": {
      "name": "python3",
      "display_name": "Python 3"
    },
    "language_info": {
      "name": "python"
    }
  },
  "cells": [
    {
      "cell_type": "markdown",
      "source": [
        "**Soal 1 UTS**"
      ],
      "metadata": {
        "id": "JINYXPyWG7Rn"
      }
    },
    {
      "cell_type": "code",
      "source": [
        "NPM = int(input(\"Masukkan NPM Anda: \"))\n",
        "NPM = [int(i) for i in str(NPM)]\n",
        "jumlah_genap = 0\n",
        "jumlah_ganjil = 0\n",
        "\n",
        "for i in NPM:\n",
        "    if i % 2 == 0:\n",
        "        jumlah_genap += 1\n",
        "\n",
        "    else:\n",
        "        jumlah_ganjil += 1\n",
        "print(\"Jumlah Bilangan Genap: \", jumlah_genap)\n",
        "print(\"Jumlah Bilangan Ganjil: \", jumlah_ganjil)\n"
      ],
      "metadata": {
        "colab": {
          "base_uri": "https://localhost:8080/"
        },
        "id": "JV0Lqgx6DkuU",
        "outputId": "43e50cb5-4af2-4ab5-f063-a613a1cbac23"
      },
      "execution_count": null,
      "outputs": [
        {
          "output_type": "stream",
          "name": "stdout",
          "text": [
            "Masukkan NPM Anda: 2420506038\n",
            "Jumlah Bilangan Genap:  8\n",
            "Jumlah Bilangan Ganjil:  2\n"
          ]
        }
      ]
    },
    {
      "cell_type": "markdown",
      "source": [
        "**Soal 2 UTS**"
      ],
      "metadata": {
        "id": "hUhMANTqHKn9"
      }
    },
    {
      "cell_type": "code",
      "source": [
        "user = int(input(\"Masukkan angka: \"))\n",
        "\n",
        "for i in range(user+1):\n",
        "  phoenix = i\n",
        "  for j in range(i):\n",
        "    print(phoenix, end=\"\")\n",
        "    phoenix += i\n",
        "    if j != i:\n",
        "        print(\" \", end=\"\")\n",
        "  print()"
      ],
      "metadata": {
        "colab": {
          "base_uri": "https://localhost:8080/"
        },
        "id": "G6cPMAgfHUBS",
        "outputId": "4358723a-4aeb-4bd5-e51d-6486077cce01"
      },
      "execution_count": null,
      "outputs": [
        {
          "output_type": "stream",
          "name": "stdout",
          "text": [
            "Masukkan angka: 10\n",
            "\n",
            "1 \n",
            "2 4 \n",
            "3 6 9 \n",
            "4 8 12 16 \n",
            "5 10 15 20 25 \n",
            "6 12 18 24 30 36 \n",
            "7 14 21 28 35 42 49 \n",
            "8 16 24 32 40 48 56 64 \n",
            "9 18 27 36 45 54 63 72 81 \n",
            "10 20 30 40 50 60 70 80 90 100 \n"
          ]
        }
      ]
    },
    {
      "cell_type": "code",
      "source": [],
      "metadata": {
        "id": "j5B964IDIS8G"
      },
      "execution_count": null,
      "outputs": []
    }
  ]
}