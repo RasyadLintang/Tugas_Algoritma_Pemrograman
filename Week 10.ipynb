{
  "nbformat": 4,
  "nbformat_minor": 0,
  "metadata": {
    "colab": {
      "provenance": [],
      "authorship_tag": "ABX9TyN7NbY3RzQus/ipt/V79rhX",
      "include_colab_link": true
    },
    "kernelspec": {
      "name": "python3",
      "display_name": "Python 3"
    },
    "language_info": {
      "name": "python"
    }
  },
  "cells": [
    {
      "cell_type": "markdown",
      "metadata": {
        "id": "view-in-github",
        "colab_type": "text"
      },
      "source": [
        "<a href=\"https://colab.research.google.com/github/RasyadLintang/Tugas_Algoritma_Pemrograman/blob/main/Week%2010.ipynb\" target=\"_parent\"><img src=\"https://colab.research.google.com/assets/colab-badge.svg\" alt=\"Open In Colab\"/></a>"
      ]
    },
    {
      "cell_type": "code",
      "execution_count": null,
      "metadata": {
        "colab": {
          "base_uri": "https://localhost:8080/"
        },
        "id": "SZEaFmVGruu4",
        "outputId": "a045ddbd-943a-4513-8020-0d223e89862e"
      },
      "outputs": [
        {
          "output_type": "stream",
          "name": "stdout",
          "text": [
            "Masukkan bilangan:6\n",
            "6! = 720\n"
          ]
        }
      ],
      "source": [
        "n = int(input('Masukkan bilangan:'))\n",
        "\n",
        "def faktorial(n):\n",
        "  if n == 0:\n",
        "    return 1\n",
        "  else:\n",
        "    return n * faktorial(n-1)\n",
        "\n",
        "result = faktorial(n)\n",
        "print(f'{n}! = {result}')"
      ]
    },
    {
      "cell_type": "code",
      "source": [
        "def Llingkaran():\n",
        "    phi = 3.14\n",
        "    jari_jari = float(input(\"Masukkan jari-jari lingkaran: \"))\n",
        "    luas = phi * (jari_jari**2)\n",
        "    return luas\n",
        "\n",
        "def Lpersegi():\n",
        "    sisi = float(input(\"Masukkan panjang sisi persegi: \"))\n",
        "    luas = sisi * sisi\n",
        "    return luas\n",
        "\n",
        "def Lsegitiga():\n",
        "    alas = float(input(\"Masukkan panjang alas segitiga: \"))\n",
        "    tinggi = float(input(\"Masukkan tinggi segitiga: \"))\n",
        "    luas = 0.5 * alas * tinggi\n",
        "    return luas\n",
        "\n",
        "def Topgoldlaner():\n",
        "    print(\"Pilih bangun datar untuk menghitung luas:\")\n",
        "    print(\"1. Lingkaran\")\n",
        "    print(\"2. Persegi\")\n",
        "    print(\"3. Segitiga\")\n",
        "    print(\"4. Keluar\")\n",
        "\n",
        "while True:\n",
        "    Topgoldlaner()\n",
        "    pilihan = input(\"Masukkan pilihan (1/2/3/4): \")\n",
        "\n",
        "    if pilihan == '1':\n",
        "        print(f\"Luas Lingkaran: {Llingkaran()}\")\n",
        "    elif pilihan == '2':\n",
        "        print(f\"Luas Persegi: {Lpersegi()}\")\n",
        "    elif pilihan == '3':\n",
        "        print(f\"Luas Segitiga: {Lsegitiga()}\")\n",
        "    elif pilihan == '4':\n",
        "        print(\"Terima kasih\")\n",
        "        break\n",
        "    else:\n",
        "        print(\"Pilihan tidak valid. Silakan coba lagi.\")"
      ],
      "metadata": {
        "id": "cRe6BVfd2POc",
        "colab": {
          "base_uri": "https://localhost:8080/"
        },
        "outputId": "79400275-c9df-4ddb-db15-94b145ef4e36"
      },
      "execution_count": 7,
      "outputs": [
        {
          "output_type": "stream",
          "name": "stdout",
          "text": [
            "Pilih bangun datar untuk menghitung luas:\n",
            "1. Lingkaran\n",
            "2. Persegi\n",
            "3. Segitiga\n",
            "4. Keluar\n",
            "Pilihan tidak valid. Silakan coba lagi.\n",
            "Pilih bangun datar untuk menghitung luas:\n",
            "1. Lingkaran\n",
            "2. Persegi\n",
            "3. Segitiga\n",
            "4. Keluar\n",
            "Masukkan pilihan (1/2/3/4): 4\n",
            "Terima kasih\n"
          ]
        }
      ]
    },
    {
      "cell_type": "code",
      "source": [],
      "metadata": {
        "id": "yXtFtduk294f"
      },
      "execution_count": null,
      "outputs": []
    }
  ]
}