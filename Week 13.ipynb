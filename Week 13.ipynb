{
  "nbformat": 4,
  "nbformat_minor": 0,
  "metadata": {
    "colab": {
      "provenance": [],
      "authorship_tag": "ABX9TyPPc4btrhzzAEr0F/YNULCr",
      "include_colab_link": true
    },
    "kernelspec": {
      "name": "python3",
      "display_name": "Python 3"
    },
    "language_info": {
      "name": "python"
    }
  },
  "cells": [
    {
      "cell_type": "markdown",
      "metadata": {
        "id": "view-in-github",
        "colab_type": "text"
      },
      "source": [
        "<a href=\"https://colab.research.google.com/github/RasyadLintang/Tugas_Algoritma_Pemrograman/blob/main/Week%2013.ipynb\" target=\"_parent\"><img src=\"https://colab.research.google.com/assets/colab-badge.svg\" alt=\"Open In Colab\"/></a>"
      ]
    },
    {
      "cell_type": "markdown",
      "source": [
        "**Weekly Exercise 1**"
      ],
      "metadata": {
        "id": "m6DIr9cjOmt2"
      }
    },
    {
      "cell_type": "code",
      "source": [
        "class penjual():\n",
        "   def __init__(self ,nama ,barang ,harga):\n",
        "    self.nama = nama\n",
        "    self.barang = barang\n",
        "    self.harga = harga\n",
        "    self.total = self.barang * self.harga\n",
        "\n",
        "   def info(self):\n",
        "    return f\"Nama: {self.nama}\\nBarang: {self.barang}\\nHarga: {self.harga}\\nTotal: {self.total}\"\n",
        "\n",
        "Bolpoint = penjual(\"Bolpoint\", 10, 2000)\n",
        "Pensil = penjual(\"Pensil\", 10, 1000)\n",
        "Penghapus = penjual(\"Penghapus\", 10, 500)\n",
        "\n",
        "print(\"\\033[1mSELAMAT DATANG DI TOKO TOP GOLD LANER\\033[0m\")\n",
        "print(\"--------------------------\")\n",
        "print(\"informasi\")\n",
        "print(\"\")\n",
        "print(\"\\nBolpoint: \")\n",
        "print(Bolpoint.info())\n",
        "print(\"\\nPensil: \")\n",
        "print(Pensil.info())\n",
        "print(\"\\nPenghapus :\")\n",
        "print(Penghapus.info())\n",
        "\n",
        "total_harga = Bolpoint.total + Pensil.total + Penghapus.total\n",
        "print(\"\\nTotal Belanja: \", total_harga)"
      ],
      "metadata": {
        "colab": {
          "base_uri": "https://localhost:8080/"
        },
        "id": "1LStfvJm4hc_",
        "outputId": "84fbc260-2c8f-484e-d021-fd345dffa407"
      },
      "execution_count": null,
      "outputs": [
        {
          "output_type": "stream",
          "name": "stdout",
          "text": [
            "\u001b[1mSELAMAT DATANG DI TOKO TOP GOLD LANER\u001b[0m\n",
            "--------------------------\n",
            "informasi\n",
            "\n",
            "\n",
            "Bolpoint: \n",
            "Nama: Bolpoint\n",
            "Barang: 10\n",
            "Harga: 2000\n",
            "Total: 20000\n",
            "\n",
            "Pensil: \n",
            "Nama: Pensil\n",
            "Barang: 10\n",
            "Harga: 1000\n",
            "Total: 10000\n",
            "\n",
            "Penghapus :\n",
            "Nama: Penghapus\n",
            "Barang: 10\n",
            "Harga: 500\n",
            "Total: 5000\n",
            "\n",
            "Total Belanja:  35000\n"
          ]
        }
      ]
    }
  ]
}