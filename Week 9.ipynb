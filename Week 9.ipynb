{
  "nbformat": 4,
  "nbformat_minor": 0,
  "metadata": {
    "colab": {
      "provenance": [],
      "authorship_tag": "ABX9TyPtM2HrtUaotn8wzSHjDUsa",
      "include_colab_link": true
    },
    "kernelspec": {
      "name": "python3",
      "display_name": "Python 3"
    },
    "language_info": {
      "name": "python"
    }
  },
  "cells": [
    {
      "cell_type": "markdown",
      "metadata": {
        "id": "view-in-github",
        "colab_type": "text"
      },
      "source": [
        "<a href=\"https://colab.research.google.com/github/RasyadLintang/Tugas_Algoritma_Pemrograman/blob/main/Week%209.ipynb\" target=\"_parent\"><img src=\"https://colab.research.google.com/assets/colab-badge.svg\" alt=\"Open In Colab\"/></a>"
      ]
    },
    {
      "cell_type": "markdown",
      "source": [
        "**Weekly Exercise 2**"
      ],
      "metadata": {
        "id": "I77wyPHCBAuH"
      }
    },
    {
      "cell_type": "code",
      "execution_count": null,
      "metadata": {
        "colab": {
          "base_uri": "https://localhost:8080/"
        },
        "id": "oeNAvznFAG8F",
        "outputId": "3e92ff13-4b90-4ba8-dca4-1c426fa8a652"
      },
      "outputs": [
        {
          "output_type": "stream",
          "name": "stdout",
          "text": [
            "Nama: Rasyad Lintang Wahyunindar\n",
            "Kelas: Rombel 2\n",
            "Tanggal Lahir: 15 Juli 2006\n",
            "No HP: 089688394984\n",
            "Alamat: Perum Villa Gading Mas V/F8, Jalan Sunan Giri, Kota Magelang\n",
            "Hobi:\n",
            "  - 1. Bermain Game\n",
            "  - 2. Menonton Film\n",
            "  - 3. Olahraga\n"
          ]
        }
      ],
      "source": [
        "data_mahasiswa = {\n",
        "    'Nama': 'Rasyad Lintang Wahyunindar',\n",
        "    'Kelas': 'Rombel 2',\n",
        "    'Tanggal Lahir': '15 Juli 2006',\n",
        "    'No HP': '089688394984',\n",
        "    'Alamat': 'Perum Villa Gading Mas V/F8, Jalan Sunan Giri, Kota Magelang',\n",
        "    'Hobi': ['1. Bermain Game', '2. Menonton Film', '3. Olahraga']\n",
        "}\n",
        "\n",
        "for key, value in data_mahasiswa.items():\n",
        "    if key == 'Hobi':\n",
        "        print(f\"{key}:\")\n",
        "        for hobi in value:\n",
        "            print(f\"  - {hobi}\")\n",
        "    else:\n",
        "        print(f\"{key}: {value}\")"
      ]
    }
  ]
}